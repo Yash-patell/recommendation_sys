{
 "cells": [
  {
   "cell_type": "markdown",
   "metadata": {
    "vscode": {
     "languageId": "plaintext"
    }
   },
   "source": [
    "recommendation sys\n"
   ]
  },
  {
   "cell_type": "code",
   "execution_count": 2,
   "metadata": {},
   "outputs": [],
   "source": [
    "import numpy as np\n",
    "import pandas as pd"
   ]
  },
  {
   "cell_type": "code",
   "execution_count": 3,
   "metadata": {},
   "outputs": [],
   "source": [
    "brand_data = pd.read_csv(\"brand_dataset.csv\")\n",
    "influencer_data = pd.read_csv(\"influencer_dataset.csv\")"
   ]
  },
  {
   "cell_type": "code",
   "execution_count": 4,
   "metadata": {},
   "outputs": [
    {
     "data": {
      "text/html": [
       "<div>\n",
       "<style scoped>\n",
       "    .dataframe tbody tr th:only-of-type {\n",
       "        vertical-align: middle;\n",
       "    }\n",
       "\n",
       "    .dataframe tbody tr th {\n",
       "        vertical-align: top;\n",
       "    }\n",
       "\n",
       "    .dataframe thead th {\n",
       "        text-align: right;\n",
       "    }\n",
       "</style>\n",
       "<table border=\"1\" class=\"dataframe\">\n",
       "  <thead>\n",
       "    <tr style=\"text-align: right;\">\n",
       "      <th></th>\n",
       "      <th>brand_id</th>\n",
       "      <th>brand_name</th>\n",
       "      <th>product_category</th>\n",
       "      <th>audience_age</th>\n",
       "      <th>audience_gender</th>\n",
       "      <th>audience_location</th>\n",
       "    </tr>\n",
       "  </thead>\n",
       "  <tbody>\n",
       "    <tr>\n",
       "      <th>0</th>\n",
       "      <td>1</td>\n",
       "      <td>Brand72</td>\n",
       "      <td>Nutrition Products</td>\n",
       "      <td>15-24</td>\n",
       "      <td>Female</td>\n",
       "      <td>Kerala</td>\n",
       "    </tr>\n",
       "    <tr>\n",
       "      <th>1</th>\n",
       "      <td>2</td>\n",
       "      <td>Brand88</td>\n",
       "      <td>Smartphones</td>\n",
       "      <td>All</td>\n",
       "      <td>Male</td>\n",
       "      <td>Gujarat</td>\n",
       "    </tr>\n",
       "    <tr>\n",
       "      <th>2</th>\n",
       "      <td>3</td>\n",
       "      <td>Brand55</td>\n",
       "      <td>Home Appliances</td>\n",
       "      <td>18-30</td>\n",
       "      <td>Male</td>\n",
       "      <td>Kerala</td>\n",
       "    </tr>\n",
       "    <tr>\n",
       "      <th>3</th>\n",
       "      <td>4</td>\n",
       "      <td>Brand84</td>\n",
       "      <td>Gadgets</td>\n",
       "      <td>15-24</td>\n",
       "      <td>Male</td>\n",
       "      <td>Kerala</td>\n",
       "    </tr>\n",
       "    <tr>\n",
       "      <th>4</th>\n",
       "      <td>5</td>\n",
       "      <td>Brand43</td>\n",
       "      <td>Home Appliances</td>\n",
       "      <td>40-50</td>\n",
       "      <td>All</td>\n",
       "      <td>Tamil Nadu</td>\n",
       "    </tr>\n",
       "  </tbody>\n",
       "</table>\n",
       "</div>"
      ],
      "text/plain": [
       "   brand_id brand_name    product_category audience_age audience_gender  \\\n",
       "0         1    Brand72  Nutrition Products        15-24          Female   \n",
       "1         2    Brand88         Smartphones          All            Male   \n",
       "2         3    Brand55     Home Appliances        18-30            Male   \n",
       "3         4    Brand84             Gadgets        15-24            Male   \n",
       "4         5    Brand43     Home Appliances        40-50             All   \n",
       "\n",
       "  audience_location  \n",
       "0            Kerala  \n",
       "1           Gujarat  \n",
       "2            Kerala  \n",
       "3            Kerala  \n",
       "4        Tamil Nadu  "
      ]
     },
     "execution_count": 4,
     "metadata": {},
     "output_type": "execute_result"
    }
   ],
   "source": [
    "brand_data.head()"
   ]
  },
  {
   "cell_type": "code",
   "execution_count": 5,
   "metadata": {},
   "outputs": [
    {
     "data": {
      "text/plain": [
       "<bound method Series.unique of 0      Brand72\n",
       "1      Brand88\n",
       "2      Brand55\n",
       "3      Brand84\n",
       "4      Brand43\n",
       "        ...   \n",
       "595     Brand8\n",
       "596    Brand80\n",
       "597    Brand29\n",
       "598     Brand7\n",
       "599    Brand89\n",
       "Name: brand_name, Length: 600, dtype: object>"
      ]
     },
     "execution_count": 5,
     "metadata": {},
     "output_type": "execute_result"
    }
   ],
   "source": [
    "brand_data['brand_name'].unique"
   ]
  },
  {
   "cell_type": "code",
   "execution_count": 6,
   "metadata": {},
   "outputs": [
    {
     "data": {
      "text/plain": [
       "<bound method Series.unique of 0          Liam Brown\n",
       "1      Isabella Moore\n",
       "2        Olivia Clark\n",
       "3          John Smith\n",
       "4         Emma Taylor\n",
       "            ...      \n",
       "595     Sophia Wilson\n",
       "596        Noah Davis\n",
       "597    Isabella Moore\n",
       "598        Noah Davis\n",
       "599        Noah Davis\n",
       "Name: Influencer Name, Length: 600, dtype: object>"
      ]
     },
     "execution_count": 6,
     "metadata": {},
     "output_type": "execute_result"
    }
   ],
   "source": [
    "influencer_data[\"Influencer Name\"].unique"
   ]
  },
  {
   "cell_type": "code",
   "execution_count": 12,
   "metadata": {},
   "outputs": [
    {
     "data": {
      "text/html": [
       "<div>\n",
       "<style scoped>\n",
       "    .dataframe tbody tr th:only-of-type {\n",
       "        vertical-align: middle;\n",
       "    }\n",
       "\n",
       "    .dataframe tbody tr th {\n",
       "        vertical-align: top;\n",
       "    }\n",
       "\n",
       "    .dataframe thead th {\n",
       "        text-align: right;\n",
       "    }\n",
       "</style>\n",
       "<table border=\"1\" class=\"dataframe\">\n",
       "  <thead>\n",
       "    <tr style=\"text-align: right;\">\n",
       "      <th></th>\n",
       "      <th>Influencer_ID</th>\n",
       "      <th>Influencer Name</th>\n",
       "      <th>Handle</th>\n",
       "      <th>Followers</th>\n",
       "      <th>Posts</th>\n",
       "      <th>Likes</th>\n",
       "      <th>Category</th>\n",
       "      <th>Sentiment</th>\n",
       "      <th>Location</th>\n",
       "      <th>Engagement Rate</th>\n",
       "    </tr>\n",
       "  </thead>\n",
       "  <tbody>\n",
       "    <tr>\n",
       "      <th>0</th>\n",
       "      <td>1</td>\n",
       "      <td>Liam Brown</td>\n",
       "      <td>@sophia.w</td>\n",
       "      <td>662606</td>\n",
       "      <td>445</td>\n",
       "      <td>22863</td>\n",
       "      <td>Gaming</td>\n",
       "      <td>Positive</td>\n",
       "      <td>Kerala</td>\n",
       "      <td>3.450467</td>\n",
       "    </tr>\n",
       "    <tr>\n",
       "      <th>1</th>\n",
       "      <td>2</td>\n",
       "      <td>Isabella Moore</td>\n",
       "      <td>@isabella.m</td>\n",
       "      <td>198089</td>\n",
       "      <td>595</td>\n",
       "      <td>46116</td>\n",
       "      <td>Travel</td>\n",
       "      <td>Neutral</td>\n",
       "      <td>Gujarat</td>\n",
       "      <td>23.280445</td>\n",
       "    </tr>\n",
       "    <tr>\n",
       "      <th>2</th>\n",
       "      <td>3</td>\n",
       "      <td>Olivia Clark</td>\n",
       "      <td>@isabella.m</td>\n",
       "      <td>581816</td>\n",
       "      <td>679</td>\n",
       "      <td>15803</td>\n",
       "      <td>Music</td>\n",
       "      <td>Positive</td>\n",
       "      <td>Kerala</td>\n",
       "      <td>2.716151</td>\n",
       "    </tr>\n",
       "    <tr>\n",
       "      <th>3</th>\n",
       "      <td>4</td>\n",
       "      <td>John Smith</td>\n",
       "      <td>@olivia.c</td>\n",
       "      <td>560060</td>\n",
       "      <td>702</td>\n",
       "      <td>19824</td>\n",
       "      <td>Fitness</td>\n",
       "      <td>Negative</td>\n",
       "      <td>Kerala</td>\n",
       "      <td>3.539621</td>\n",
       "    </tr>\n",
       "    <tr>\n",
       "      <th>4</th>\n",
       "      <td>5</td>\n",
       "      <td>Emma Taylor</td>\n",
       "      <td>@jane.doe</td>\n",
       "      <td>273159</td>\n",
       "      <td>672</td>\n",
       "      <td>6424</td>\n",
       "      <td>Photography</td>\n",
       "      <td>Negative</td>\n",
       "      <td>Tamil Nadu</td>\n",
       "      <td>2.351744</td>\n",
       "    </tr>\n",
       "  </tbody>\n",
       "</table>\n",
       "</div>"
      ],
      "text/plain": [
       "   Influencer_ID Influencer Name       Handle  Followers  Posts  Likes  \\\n",
       "0              1      Liam Brown    @sophia.w     662606    445  22863   \n",
       "1              2  Isabella Moore  @isabella.m     198089    595  46116   \n",
       "2              3    Olivia Clark  @isabella.m     581816    679  15803   \n",
       "3              4      John Smith    @olivia.c     560060    702  19824   \n",
       "4              5     Emma Taylor    @jane.doe     273159    672   6424   \n",
       "\n",
       "      Category Sentiment    Location  Engagement Rate  \n",
       "0       Gaming  Positive      Kerala         3.450467  \n",
       "1       Travel   Neutral     Gujarat        23.280445  \n",
       "2        Music  Positive      Kerala         2.716151  \n",
       "3      Fitness  Negative      Kerala         3.539621  \n",
       "4  Photography  Negative  Tamil Nadu         2.351744  "
      ]
     },
     "execution_count": 12,
     "metadata": {},
     "output_type": "execute_result"
    }
   ],
   "source": [
    "influencer_data.head()"
   ]
  },
  {
   "cell_type": "code",
   "execution_count": 15,
   "metadata": {},
   "outputs": [
    {
     "data": {
      "text/plain": [
       "brand_id             0\n",
       "brand_name           0\n",
       "product_category     0\n",
       "audience_age         0\n",
       "audience_gender      0\n",
       "audience_location    0\n",
       "dtype: int64"
      ]
     },
     "execution_count": 15,
     "metadata": {},
     "output_type": "execute_result"
    }
   ],
   "source": [
    "brand_data.isnull().sum()"
   ]
  },
  {
   "cell_type": "code",
   "execution_count": 14,
   "metadata": {},
   "outputs": [
    {
     "data": {
      "text/plain": [
       "Influencer_ID      0\n",
       "Influencer Name    0\n",
       "Handle             0\n",
       "Followers          0\n",
       "Posts              0\n",
       "Likes              0\n",
       "Category           0\n",
       "Sentiment          0\n",
       "Location           0\n",
       "Engagement Rate    0\n",
       "dtype: int64"
      ]
     },
     "execution_count": 14,
     "metadata": {},
     "output_type": "execute_result"
    }
   ],
   "source": [
    "\n",
    "influencer_data.isnull().sum()"
   ]
  },
  {
   "cell_type": "code",
   "execution_count": null,
   "metadata": {},
   "outputs": [],
   "source": []
  }
 ],
 "metadata": {
  "kernelspec": {
   "display_name": "base",
   "language": "python",
   "name": "python3"
  },
  "language_info": {
   "codemirror_mode": {
    "name": "ipython",
    "version": 3
   },
   "file_extension": ".py",
   "mimetype": "text/x-python",
   "name": "python",
   "nbconvert_exporter": "python",
   "pygments_lexer": "ipython3",
   "version": "3.11.5"
  }
 },
 "nbformat": 4,
 "nbformat_minor": 2
}
