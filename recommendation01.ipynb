{
 "cells": [
  {
   "cell_type": "markdown",
   "metadata": {
    "vscode": {
     "languageId": "plaintext"
    }
   },
   "source": [
    "recommendation sys\n"
   ]
  },
  {
   "cell_type": "code",
   "execution_count": 14,
   "metadata": {},
   "outputs": [],
   "source": [
    "import numpy as np\n",
    "import pandas as pd"
   ]
  },
  {
   "cell_type": "code",
   "execution_count": 15,
   "metadata": {},
   "outputs": [],
   "source": [
    "brand_data = pd.read_csv(\"brand_dataset.csv\")\n",
    "influencer_data = pd.read_csv(\"influencer_dataset.csv\")"
   ]
  },
  {
   "cell_type": "code",
   "execution_count": 16,
   "metadata": {},
   "outputs": [
    {
     "data": {
      "text/html": [
       "<div>\n",
       "<style scoped>\n",
       "    .dataframe tbody tr th:only-of-type {\n",
       "        vertical-align: middle;\n",
       "    }\n",
       "\n",
       "    .dataframe tbody tr th {\n",
       "        vertical-align: top;\n",
       "    }\n",
       "\n",
       "    .dataframe thead th {\n",
       "        text-align: right;\n",
       "    }\n",
       "</style>\n",
       "<table border=\"1\" class=\"dataframe\">\n",
       "  <thead>\n",
       "    <tr style=\"text-align: right;\">\n",
       "      <th></th>\n",
       "      <th>brand_id</th>\n",
       "      <th>brand_name</th>\n",
       "      <th>product_category</th>\n",
       "      <th>audience_age</th>\n",
       "      <th>audience_gender</th>\n",
       "      <th>audience_location</th>\n",
       "    </tr>\n",
       "  </thead>\n",
       "  <tbody>\n",
       "    <tr>\n",
       "      <th>0</th>\n",
       "      <td>1</td>\n",
       "      <td>Brand72</td>\n",
       "      <td>Nutrition Products</td>\n",
       "      <td>15-24</td>\n",
       "      <td>Female</td>\n",
       "      <td>Kerala</td>\n",
       "    </tr>\n",
       "    <tr>\n",
       "      <th>1</th>\n",
       "      <td>2</td>\n",
       "      <td>Brand88</td>\n",
       "      <td>Smartphones</td>\n",
       "      <td>All</td>\n",
       "      <td>Male</td>\n",
       "      <td>Gujarat</td>\n",
       "    </tr>\n",
       "    <tr>\n",
       "      <th>2</th>\n",
       "      <td>3</td>\n",
       "      <td>Brand55</td>\n",
       "      <td>Home Appliances</td>\n",
       "      <td>18-30</td>\n",
       "      <td>Male</td>\n",
       "      <td>Kerala</td>\n",
       "    </tr>\n",
       "    <tr>\n",
       "      <th>3</th>\n",
       "      <td>4</td>\n",
       "      <td>Brand84</td>\n",
       "      <td>Gadgets</td>\n",
       "      <td>15-24</td>\n",
       "      <td>Male</td>\n",
       "      <td>Kerala</td>\n",
       "    </tr>\n",
       "    <tr>\n",
       "      <th>4</th>\n",
       "      <td>5</td>\n",
       "      <td>Brand43</td>\n",
       "      <td>Home Appliances</td>\n",
       "      <td>40-50</td>\n",
       "      <td>All</td>\n",
       "      <td>Tamil Nadu</td>\n",
       "    </tr>\n",
       "  </tbody>\n",
       "</table>\n",
       "</div>"
      ],
      "text/plain": [
       "   brand_id brand_name    product_category audience_age audience_gender  \\\n",
       "0         1    Brand72  Nutrition Products        15-24          Female   \n",
       "1         2    Brand88         Smartphones          All            Male   \n",
       "2         3    Brand55     Home Appliances        18-30            Male   \n",
       "3         4    Brand84             Gadgets        15-24            Male   \n",
       "4         5    Brand43     Home Appliances        40-50             All   \n",
       "\n",
       "  audience_location  \n",
       "0            Kerala  \n",
       "1           Gujarat  \n",
       "2            Kerala  \n",
       "3            Kerala  \n",
       "4        Tamil Nadu  "
      ]
     },
     "execution_count": 16,
     "metadata": {},
     "output_type": "execute_result"
    }
   ],
   "source": [
    "brand_data.head()"
   ]
  },
  {
   "cell_type": "code",
   "execution_count": 17,
   "metadata": {},
   "outputs": [
    {
     "data": {
      "text/plain": [
       "<bound method Series.unique of 0      Brand72\n",
       "1      Brand88\n",
       "2      Brand55\n",
       "3      Brand84\n",
       "4      Brand43\n",
       "        ...   \n",
       "595     Brand8\n",
       "596    Brand80\n",
       "597    Brand29\n",
       "598     Brand7\n",
       "599    Brand89\n",
       "Name: brand_name, Length: 600, dtype: object>"
      ]
     },
     "execution_count": 17,
     "metadata": {},
     "output_type": "execute_result"
    }
   ],
   "source": [
    "brand_data['brand_name'].unique"
   ]
  },
  {
   "cell_type": "code",
   "execution_count": 19,
   "metadata": {},
   "outputs": [
    {
     "data": {
      "text/html": [
       "<div>\n",
       "<style scoped>\n",
       "    .dataframe tbody tr th:only-of-type {\n",
       "        vertical-align: middle;\n",
       "    }\n",
       "\n",
       "    .dataframe tbody tr th {\n",
       "        vertical-align: top;\n",
       "    }\n",
       "\n",
       "    .dataframe thead th {\n",
       "        text-align: right;\n",
       "    }\n",
       "</style>\n",
       "<table border=\"1\" class=\"dataframe\">\n",
       "  <thead>\n",
       "    <tr style=\"text-align: right;\">\n",
       "      <th></th>\n",
       "      <th>Influencer_ID</th>\n",
       "      <th>Influencer_name</th>\n",
       "      <th>Handle</th>\n",
       "      <th>Followers</th>\n",
       "      <th>Posts</th>\n",
       "      <th>Likes</th>\n",
       "      <th>Category</th>\n",
       "      <th>Sentiment</th>\n",
       "      <th>Location</th>\n",
       "      <th>Age</th>\n",
       "      <th>Gender</th>\n",
       "      <th>Platform</th>\n",
       "      <th>Engagement_rate</th>\n",
       "    </tr>\n",
       "  </thead>\n",
       "  <tbody>\n",
       "    <tr>\n",
       "      <th>0</th>\n",
       "      <td>1</td>\n",
       "      <td>Jane Doe</td>\n",
       "      <td>@emma.t</td>\n",
       "      <td>340770</td>\n",
       "      <td>986</td>\n",
       "      <td>31587</td>\n",
       "      <td>Food</td>\n",
       "      <td>Positive</td>\n",
       "      <td>Kerala</td>\n",
       "      <td>29</td>\n",
       "      <td>Male</td>\n",
       "      <td>TikTok</td>\n",
       "      <td>9.269302</td>\n",
       "    </tr>\n",
       "    <tr>\n",
       "      <th>1</th>\n",
       "      <td>2</td>\n",
       "      <td>Mia Lee</td>\n",
       "      <td>@jane.doe</td>\n",
       "      <td>702603</td>\n",
       "      <td>847</td>\n",
       "      <td>49725</td>\n",
       "      <td>Fashion</td>\n",
       "      <td>Positive</td>\n",
       "      <td>Gujarat</td>\n",
       "      <td>31</td>\n",
       "      <td>All</td>\n",
       "      <td>Twitter</td>\n",
       "      <td>7.077254</td>\n",
       "    </tr>\n",
       "    <tr>\n",
       "      <th>2</th>\n",
       "      <td>3</td>\n",
       "      <td>John Smith</td>\n",
       "      <td>@noah.d</td>\n",
       "      <td>113855</td>\n",
       "      <td>241</td>\n",
       "      <td>41587</td>\n",
       "      <td>Food</td>\n",
       "      <td>Positive</td>\n",
       "      <td>Kerala</td>\n",
       "      <td>25</td>\n",
       "      <td>Male</td>\n",
       "      <td>Instagram</td>\n",
       "      <td>36.526283</td>\n",
       "    </tr>\n",
       "    <tr>\n",
       "      <th>3</th>\n",
       "      <td>4</td>\n",
       "      <td>Emma Taylor</td>\n",
       "      <td>@jane.doe</td>\n",
       "      <td>202147</td>\n",
       "      <td>944</td>\n",
       "      <td>8042</td>\n",
       "      <td>Lifestyle</td>\n",
       "      <td>Negative</td>\n",
       "      <td>Kerala</td>\n",
       "      <td>49</td>\n",
       "      <td>All</td>\n",
       "      <td>Facebook</td>\n",
       "      <td>3.978293</td>\n",
       "    </tr>\n",
       "    <tr>\n",
       "      <th>4</th>\n",
       "      <td>5</td>\n",
       "      <td>Mason White</td>\n",
       "      <td>@john.smith</td>\n",
       "      <td>495171</td>\n",
       "      <td>508</td>\n",
       "      <td>30531</td>\n",
       "      <td>Lifestyle</td>\n",
       "      <td>Negative</td>\n",
       "      <td>Tamil Nadu</td>\n",
       "      <td>19</td>\n",
       "      <td>Female</td>\n",
       "      <td>Instagram</td>\n",
       "      <td>6.165749</td>\n",
       "    </tr>\n",
       "  </tbody>\n",
       "</table>\n",
       "</div>"
      ],
      "text/plain": [
       "   Influencer_ID Influencer_name       Handle  Followers  Posts  Likes  \\\n",
       "0              1        Jane Doe      @emma.t     340770    986  31587   \n",
       "1              2         Mia Lee    @jane.doe     702603    847  49725   \n",
       "2              3      John Smith      @noah.d     113855    241  41587   \n",
       "3              4     Emma Taylor    @jane.doe     202147    944   8042   \n",
       "4              5     Mason White  @john.smith     495171    508  30531   \n",
       "\n",
       "    Category Sentiment    Location  Age  Gender   Platform  Engagement_rate  \n",
       "0       Food  Positive      Kerala   29    Male     TikTok         9.269302  \n",
       "1    Fashion  Positive     Gujarat   31     All    Twitter         7.077254  \n",
       "2       Food  Positive      Kerala   25    Male  Instagram        36.526283  \n",
       "3  Lifestyle  Negative      Kerala   49     All   Facebook         3.978293  \n",
       "4  Lifestyle  Negative  Tamil Nadu   19  Female  Instagram         6.165749  "
      ]
     },
     "execution_count": 19,
     "metadata": {},
     "output_type": "execute_result"
    }
   ],
   "source": [
    "influencer_data.head()"
   ]
  },
  {
   "cell_type": "code",
   "execution_count": 15,
   "metadata": {},
   "outputs": [
    {
     "data": {
      "text/plain": [
       "brand_id             0\n",
       "brand_name           0\n",
       "product_category     0\n",
       "audience_age         0\n",
       "audience_gender      0\n",
       "audience_location    0\n",
       "dtype: int64"
      ]
     },
     "execution_count": 15,
     "metadata": {},
     "output_type": "execute_result"
    }
   ],
   "source": [
    "brand_data.isnull().sum()"
   ]
  },
  {
   "cell_type": "code",
   "execution_count": 14,
   "metadata": {},
   "outputs": [
    {
     "data": {
      "text/plain": [
       "Influencer_ID      0\n",
       "Influencer Name    0\n",
       "Handle             0\n",
       "Followers          0\n",
       "Posts              0\n",
       "Likes              0\n",
       "Category           0\n",
       "Sentiment          0\n",
       "Location           0\n",
       "Engagement Rate    0\n",
       "dtype: int64"
      ]
     },
     "execution_count": 14,
     "metadata": {},
     "output_type": "execute_result"
    }
   ],
   "source": [
    "\n",
    "influencer_data.isnull().sum()"
   ]
  },
  {
   "cell_type": "code",
   "execution_count": null,
   "metadata": {},
   "outputs": [],
   "source": []
  }
 ],
 "metadata": {
  "kernelspec": {
   "display_name": "base",
   "language": "python",
   "name": "python3"
  },
  "language_info": {
   "codemirror_mode": {
    "name": "ipython",
    "version": 3
   },
   "file_extension": ".py",
   "mimetype": "text/x-python",
   "name": "python",
   "nbconvert_exporter": "python",
   "pygments_lexer": "ipython3",
   "version": "3.11.5"
  }
 },
 "nbformat": 4,
 "nbformat_minor": 2
}
