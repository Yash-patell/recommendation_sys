{
 "cells": [
  {
   "cell_type": "code",
   "execution_count": 2,
   "metadata": {},
   "outputs": [],
   "source": [
    "import pandas as pd"
   ]
  },
  {
   "cell_type": "code",
   "execution_count": 3,
   "metadata": {},
   "outputs": [],
   "source": [
    "brand_data = pd.read_csv('brand_dataset.csv')"
   ]
  },
  {
   "cell_type": "code",
   "execution_count": 9,
   "metadata": {},
   "outputs": [
    {
     "data": {
      "text/plain": [
       "array(['Nutrition Products', 'Smartphones', 'Home Appliances', 'Gadgets',\n",
       "       'Fashion Accessories', 'Eco-friendly Goods', 'Travel Services',\n",
       "       'Food Products', 'Gaming Products', 'Cosmetics', 'Pet Supplies',\n",
       "       'Books', 'Clothing', 'Art Supplies', 'Fitness Equipment'],\n",
       "      dtype=object)"
      ]
     },
     "execution_count": 9,
     "metadata": {},
     "output_type": "execute_result"
    }
   ],
   "source": [
    "brand_data['product_category'].unique()"
   ]
  },
  {
   "cell_type": "code",
   "execution_count": 6,
   "metadata": {},
   "outputs": [],
   "source": [
    "influencer_data = pd.read_csv('influencer_dataset.csv')"
   ]
  },
  {
   "cell_type": "code",
   "execution_count": 8,
   "metadata": {},
   "outputs": [
    {
     "data": {
      "text/plain": [
       "array(['Food', 'Fashion', 'Lifestyle', 'Tech', 'Travel', 'Music',\n",
       "       'Health', 'Gaming', 'Fitness', 'Photography'], dtype=object)"
      ]
     },
     "execution_count": 8,
     "metadata": {},
     "output_type": "execute_result"
    }
   ],
   "source": [
    "influencer_data['Category'].unique()"
   ]
  },
  {
   "cell_type": "code",
   "execution_count": 10,
   "metadata": {},
   "outputs": [
    {
     "data": {
      "text/html": [
       "<div>\n",
       "<style scoped>\n",
       "    .dataframe tbody tr th:only-of-type {\n",
       "        vertical-align: middle;\n",
       "    }\n",
       "\n",
       "    .dataframe tbody tr th {\n",
       "        vertical-align: top;\n",
       "    }\n",
       "\n",
       "    .dataframe thead th {\n",
       "        text-align: right;\n",
       "    }\n",
       "</style>\n",
       "<table border=\"1\" class=\"dataframe\">\n",
       "  <thead>\n",
       "    <tr style=\"text-align: right;\">\n",
       "      <th></th>\n",
       "      <th>id</th>\n",
       "      <th>Influencer_name</th>\n",
       "      <th>Handle</th>\n",
       "      <th>Followers</th>\n",
       "      <th>Posts</th>\n",
       "      <th>Likes</th>\n",
       "      <th>Category</th>\n",
       "      <th>Sentiment</th>\n",
       "      <th>audience_location</th>\n",
       "      <th>audience_age</th>\n",
       "      <th>audience_Gender</th>\n",
       "      <th>Platform</th>\n",
       "      <th>Engagement_rate</th>\n",
       "    </tr>\n",
       "  </thead>\n",
       "  <tbody>\n",
       "    <tr>\n",
       "      <th>0</th>\n",
       "      <td>1</td>\n",
       "      <td>Jane Doe</td>\n",
       "      <td>@emma.t</td>\n",
       "      <td>340770</td>\n",
       "      <td>986</td>\n",
       "      <td>31587</td>\n",
       "      <td>Food</td>\n",
       "      <td>Positive</td>\n",
       "      <td>Kerala</td>\n",
       "      <td>15-24</td>\n",
       "      <td>Male</td>\n",
       "      <td>TikTok</td>\n",
       "      <td>9.269302</td>\n",
       "    </tr>\n",
       "    <tr>\n",
       "      <th>1</th>\n",
       "      <td>2</td>\n",
       "      <td>Mia Lee</td>\n",
       "      <td>@jane.doe</td>\n",
       "      <td>702603</td>\n",
       "      <td>847</td>\n",
       "      <td>49725</td>\n",
       "      <td>Fashion</td>\n",
       "      <td>Positive</td>\n",
       "      <td>Gujarat</td>\n",
       "      <td>All</td>\n",
       "      <td>All</td>\n",
       "      <td>Twitter</td>\n",
       "      <td>7.077254</td>\n",
       "    </tr>\n",
       "    <tr>\n",
       "      <th>2</th>\n",
       "      <td>3</td>\n",
       "      <td>John Smith</td>\n",
       "      <td>@noah.d</td>\n",
       "      <td>113855</td>\n",
       "      <td>241</td>\n",
       "      <td>41587</td>\n",
       "      <td>Food</td>\n",
       "      <td>Positive</td>\n",
       "      <td>Kerala</td>\n",
       "      <td>18-30</td>\n",
       "      <td>Male</td>\n",
       "      <td>Instagram</td>\n",
       "      <td>36.526283</td>\n",
       "    </tr>\n",
       "    <tr>\n",
       "      <th>3</th>\n",
       "      <td>4</td>\n",
       "      <td>Emma Taylor</td>\n",
       "      <td>@jane.doe</td>\n",
       "      <td>202147</td>\n",
       "      <td>944</td>\n",
       "      <td>8042</td>\n",
       "      <td>Lifestyle</td>\n",
       "      <td>Negative</td>\n",
       "      <td>Kerala</td>\n",
       "      <td>15-24</td>\n",
       "      <td>All</td>\n",
       "      <td>Facebook</td>\n",
       "      <td>3.978293</td>\n",
       "    </tr>\n",
       "    <tr>\n",
       "      <th>4</th>\n",
       "      <td>5</td>\n",
       "      <td>Mason White</td>\n",
       "      <td>@john.smith</td>\n",
       "      <td>495171</td>\n",
       "      <td>508</td>\n",
       "      <td>30531</td>\n",
       "      <td>Lifestyle</td>\n",
       "      <td>Negative</td>\n",
       "      <td>Tamil Nadu</td>\n",
       "      <td>40-50</td>\n",
       "      <td>Female</td>\n",
       "      <td>Instagram</td>\n",
       "      <td>6.165749</td>\n",
       "    </tr>\n",
       "  </tbody>\n",
       "</table>\n",
       "</div>"
      ],
      "text/plain": [
       "   id Influencer_name       Handle  Followers  Posts  Likes   Category  \\\n",
       "0   1        Jane Doe      @emma.t     340770    986  31587       Food   \n",
       "1   2         Mia Lee    @jane.doe     702603    847  49725    Fashion   \n",
       "2   3      John Smith      @noah.d     113855    241  41587       Food   \n",
       "3   4     Emma Taylor    @jane.doe     202147    944   8042  Lifestyle   \n",
       "4   5     Mason White  @john.smith     495171    508  30531  Lifestyle   \n",
       "\n",
       "  Sentiment audience_location audience_age audience_Gender   Platform  \\\n",
       "0  Positive            Kerala        15-24            Male     TikTok   \n",
       "1  Positive           Gujarat          All             All    Twitter   \n",
       "2  Positive            Kerala        18-30            Male  Instagram   \n",
       "3  Negative            Kerala        15-24             All   Facebook   \n",
       "4  Negative        Tamil Nadu        40-50          Female  Instagram   \n",
       "\n",
       "   Engagement_rate  \n",
       "0         9.269302  \n",
       "1         7.077254  \n",
       "2        36.526283  \n",
       "3         3.978293  \n",
       "4         6.165749  "
      ]
     },
     "execution_count": 10,
     "metadata": {},
     "output_type": "execute_result"
    }
   ],
   "source": [
    "influencer_data.head()"
   ]
  },
  {
   "cell_type": "code",
   "execution_count": null,
   "metadata": {},
   "outputs": [],
   "source": []
  }
 ],
 "metadata": {
  "kernelspec": {
   "display_name": "base",
   "language": "python",
   "name": "python3"
  },
  "language_info": {
   "codemirror_mode": {
    "name": "ipython",
    "version": 3
   },
   "file_extension": ".py",
   "mimetype": "text/x-python",
   "name": "python",
   "nbconvert_exporter": "python",
   "pygments_lexer": "ipython3",
   "version": "3.11.5"
  }
 },
 "nbformat": 4,
 "nbformat_minor": 2
}
